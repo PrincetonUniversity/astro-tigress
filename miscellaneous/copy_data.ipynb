{
 "cells": [
  {
   "cell_type": "markdown",
   "metadata": {},
   "source": [
    "# Copy simulation data on tigressdata/ to the astro-tigress data release file storage"
   ]
  },
  {
   "cell_type": "code",
   "execution_count": 20,
   "metadata": {},
   "outputs": [
    {
     "data": {
      "text/plain": [
       "<module 'delete_fields_vtk' from '/home/munan/astro-tigress/miscellaneous/delete_fields_vtk.py'>"
      ]
     },
     "execution_count": 20,
     "metadata": {},
     "output_type": "execute_result"
    }
   ],
   "source": [
    "import sys\n",
    "sys.path.insert(0, \"../module/\") #add path for import\n",
    "import numpy as np\n",
    "from tigress_utils import copy_file\n",
    "import read_vtk\n",
    "import delete_fields_vtk"
   ]
  },
  {
   "cell_type": "code",
   "execution_count": 6,
   "metadata": {},
   "outputs": [],
   "source": [
    "#directories\n",
    "dir_new = \"/tigress/munan/public_html/astro-tigress/\"\n",
    "dir_MHD_old = \"/projects/EOSTRIKE/TIGRESS_XCO/\"\n",
    "dir_chem_old = \"/tigress/munan/chemistry/XCO_surfd/\"\n",
    "dir_CO_old = \"/tigress/munan/chemistry/scripts/radmc3d/output/XCO_surfd/\"\n",
    "dir_rad_old = \"/tigress/changgoo/radps_postproc/\"\n",
    "#R8_2pc_rst\n",
    "ivtks_R8_2pc = np.arange(290, 400, 10)\n",
    "id_R8_2pc_old = \"R8_2pc_rst\"\n",
    "chemZ_R8_old = [\"Z1S\", \"Z0p5S\", \"Z2S\"]\n",
    "chemZ_R8_new = [\"Z1\",  \"Z05\", \"Z2\"]\n",
    "CO_lines = [1, 2] #CO (1-0), CO (2-1)\n",
    "#R8_4pc_newacc\n",
    "ivtks_R8_4pc = np.arange(200, 410, 10)\n",
    "id_R8_4pc_old = \"R8_4pc_newacc\""
   ]
  },
  {
   "cell_type": "code",
   "execution_count": 26,
   "metadata": {},
   "outputs": [],
   "source": [
    "def copy_MHD(ivtks, id_old, id_new, dir_MHD_old, dir_new):\n",
    "    \"\"\"Copy Athena 4.2 MHD TIGRESS simulation output to data storage.\n",
    "    input:\n",
    "        ivtks: array or list of integers specifying vtk index\n",
    "        id_old: string, old output id, e.g. R8_2pc_rst\n",
    "        id_new: string, new output id, e.g. R8_2pc\n",
    "        dir_MHD_old: string, old folder for data storage\n",
    "        dir_new: string, new folder for data storage\"\"\"\n",
    "    fn_par_old = \"{:s}{:s}/{:s}.par\".format(dir_MHD_old, id_old, id_old)\n",
    "    fn_par_new = \"{:s}{:s}/input/MHD/{:s}.par\".format(dir_new, id_new, id_new)\n",
    "    copy_file(fn_par_old, fn_par_new)\n",
    "    fn_hst_old = \"{:s}{:s}/hst/{:s}.hst\".format(dir_MHD_old, id_old, id_old)\n",
    "    fn_hst_new = \"{:s}{:s}/history/MHD/{:s}.hst\".format(dir_new, id_new, id_new)\n",
    "    copy_file(fn_hst_old, fn_hst_new)\n",
    "    for ivtk in ivtks:\n",
    "        dir_MHD_new = \"{:s}{:s}/{:04d}/MHD/\".format(dir_new, id_new, ivtk)\n",
    "        fn_vtk_old = \"{:s}{:s}/vtk/{:s}.{:04d}.vtk\".format(dir_MHD_old, id_old, id_old, ivtk)\n",
    "        fn_vtk_new = \"{:s}{:s}.{:04d}.vtk\".format(dir_MHD_new, id_new, ivtk)\n",
    "        copy_file(fn_vtk_old, fn_vtk_new)\n",
    "    return\n",
    "\n",
    "def copy_chemistry(ivtks, id_old, id_new, dir_chem_old, dir_new, chemZ_old, chemZ_new):\n",
    "    \"\"\"Copy Athena++ post-processing chemistry HDF5 output to data storage.\n",
    "    input:\n",
    "        ivtks: array or list of integers specifying vtk index\n",
    "        id_old: string, old output id, e.g. R8_2pc_rst\n",
    "        id_new: string, new output id, e.g. R8_2pc\n",
    "        dir_chem_old: string, old folder for data storage\n",
    "        dir_new: string, new folder for data storage\n",
    "        chemZ_R8_old: list of strings, old names for metallicity\n",
    "        chemZ_R8_new: list of strings, new names for metallicity\"\"\"\n",
    "    for iZ in np.arange(len(chemZ_old)):\n",
    "        Z_old = chemZ_old[iZ]\n",
    "        Z_new = chemZ_new[iZ]\n",
    "        for ivtk in ivtks:\n",
    "            dir_chem_new = \"{:s}{:s}/{:04d}/chem/\".format(dir_new, id_new, ivtk)\n",
    "            fn_old = \"{:s}{:s}/{:s}/{:04d}/{:s}.out1.00001.athdf\".format(\n",
    "                dir_chem_old, id_old, Z_old, ivtk, id_old)\n",
    "            fn_new = \"{:s}{:s}/{:s}-{:s}.{:04d}.athdf\".format(\n",
    "                dir_chem_new, Z_new, id_new, Z_new, ivtk)\n",
    "            copy_file(fn_old, fn_new)\n",
    "            fn_xdmf_old = \"{:s}{:s}/{:s}/{:04d}/{:s}.out1.00001.athdf.xdmf\".format(\n",
    "                dir_chem_old, id_old, Z_old, ivtk, id_old)\n",
    "            fn_xdmf_new = \"{:s}{:s}/{:s}-{:s}.{:04d}.athdf.xdmf\".format(\n",
    "                dir_chem_new, Z_new, id_new, Z_new, ivtk)\n",
    "            copy_file(fn_xdmf_old, fn_xdmf_new)\n",
    "    return\n",
    "\n",
    "def copy_CO(ivtks, id_old, id_new, dir_CO_old, dir_new, chemZ_old, chemZ_new, lines):\n",
    "    \"\"\"Copy RADMC-3D post-processing CO lines PPV output to data storage.\n",
    "    input:\n",
    "        ivtks: array or list of integers specifying vtk index\n",
    "        id_old: string, old output id, e.g. R8_2pc_rst\n",
    "        id_new: string, new output id, e.g. R8_2pc\n",
    "        dir_CO_old: string, old folder for data storage\n",
    "        dir_new: string, new folder for data storage\n",
    "        chemZ_R8_old: list of strings, old names for metallicity\n",
    "        chemZ_R8_new: list of strings, new names for metallicity\n",
    "        lines: array/list of integers, upper level of CO rotational lines.\n",
    "               e.g. 1: J=1-0\"\"\"\n",
    "    for iZ in np.arange(len(chemZ_old)):\n",
    "        Z_old = chemZ_old[iZ]\n",
    "        Z_new = chemZ_new[iZ]\n",
    "        for ivtk in ivtks:\n",
    "            dir_CO_new = \"{:s}{:s}/{:04d}/CO_lines/\".format(dir_new, id_new, ivtk)\n",
    "            for iline in lines:\n",
    "                fn_old = \"{:s}{:s}/{:s}/il{:d}/{:04d}/image.bout\".format(\n",
    "                        dir_CO_old, id_old, Z_old, iline, ivtk)\n",
    "                fn_new = \"{:s}{:s}/il{:d}/{:s}-{:s}.il{:d}.{:04d}.bout\".format(\n",
    "                        dir_CO_new, Z_new, iline, id_new, Z_new, iline, ivtk)\n",
    "                copy_file(fn_old, fn_new)\n",
    "    return\n",
    "\n",
    "def copy_rad(ivtks, id_old, id_new, dir_rad_old, dir_new):\n",
    "    \"\"\"Copy Athena 4.2 MHD TIGRESS simulation output \n",
    "       with radiaiton post-processing to data storage.\n",
    "       Delete radiation fields.\n",
    "    input:\n",
    "        ivtks: array or list of integers specifying vtk index\n",
    "        id_old: string, old output id, e.g. R8_2pc_rst\n",
    "        id_new: string, new output id, e.g. R8_2pc\n",
    "        dir_rad_old: string, old folder for data storage\n",
    "        dir_new: string, new folder for data storage\"\"\"\n",
    "    fields_del = ['rad_energy_density0','rad_energy_density1']\n",
    "    for ivtk in ivtks:\n",
    "        ivtk_old = int((ivtk-ivtks[0])/10 + 1)\n",
    "        dir_rad_new = \"{:s}{:s}/{:04d}/MHD_PI/\".format(dir_new, id_new, ivtk)\n",
    "        fn_vtk_old = \"{:s}{:s}/vtk/{:s}.{:04d}.vtk\".format(dir_rad_old, id_old, id_old, ivtk_old)\n",
    "        fn_vtk_new = \"{:s}{:s}.{:04d}.vtk\".format(dir_rad_new, id_new, ivtk)\n",
    "        delete_fields_vtk.delete_fields_vtk(fn_vtk_old, fn_vtk_new, fields_del, verbose=False)\n",
    "    return"
   ]
  },
  {
   "cell_type": "code",
   "execution_count": 27,
   "metadata": {},
   "outputs": [],
   "source": [
    "#R8_2pc_rst\n",
    "copy_MHD(ivtks_R8_2pc, id_R8_2pc_old, \"R8_2pc\", dir_MHD_old, dir_new)\n",
    "copy_chemistry(ivtks_R8_2pc, id_R8_2pc_old, \"R8_2pc\", dir_chem_old, dir_new, chemZ_R8_old, chemZ_R8_new)\n",
    "copy_CO(ivtks_R8_2pc, id_R8_2pc_old, \"R8_2pc\", dir_CO_old, dir_new, chemZ_R8_old, chemZ_R8_new, CO_lines)\n",
    "copy_rad(ivtks_R8_2pc, id_R8_2pc_old, \"R8_2pc\", dir_rad_old, dir_new)"
   ]
  },
  {
   "cell_type": "code",
   "execution_count": 22,
   "metadata": {
    "tags": []
   },
   "outputs": [],
   "source": [
    "#R8_4pc_newacc\n",
    "copy_MHD(ivtks_R8_4pc, id_R8_4pc_old, \"R8_4pc\", dir_MHD_old, dir_new)\n",
    "copy_rad(ivtks_R8_4pc, id_R8_4pc_old, \"R8_4pc\", dir_rad_old, dir_new)"
   ]
  },
  {
   "cell_type": "code",
   "execution_count": null,
   "metadata": {},
   "outputs": [],
   "source": []
  }
 ],
 "metadata": {
  "kernelspec": {
   "display_name": "Python 3 (ipykernel)",
   "language": "python",
   "name": "python3"
  },
  "language_info": {
   "codemirror_mode": {
    "name": "ipython",
    "version": 3
   },
   "file_extension": ".py",
   "mimetype": "text/x-python",
   "name": "python",
   "nbconvert_exporter": "python",
   "pygments_lexer": "ipython3",
   "version": "3.8.13"
  }
 },
 "nbformat": 4,
 "nbformat_minor": 4
}
